{
 "cells": [
  {
   "cell_type": "code",
   "execution_count": 1,
   "metadata": {},
   "outputs": [],
   "source": [
    "from pandas import DataFrame\n",
    "import matplotlib.pyplot as plt\n",
    "from sklearn import linear_model\n",
    "import statsmodels.api as sm\n",
    "import tkinter as tk"
   ]
  },
  {
   "cell_type": "markdown",
   "metadata": {},
   "source": [
    "# Economic Factors in Corporate Bond Yields\n",
    "• Inflation\n",
    "• Economic Growth (GDP)\n",
    "• Interest Rates"
   ]
  },
  {
   "cell_type": "markdown",
   "metadata": {},
   "source": [
    "## Create the data-set"
   ]
  },
  {
   "cell_type": "code",
   "execution_count": 2,
   "metadata": {},
   "outputs": [
    {
     "name": "stdout",
     "output_type": "stream",
     "text": [
      "    Year  Month  Federal Funds Rate  Corporate Bond Yield  Inflation Rate\n",
      "0   1996     12                5.29                  7.37             3.3\n",
      "1   1997     12                5.50                  7.27             1.7\n",
      "2   1998     12                4.68                  6.53             1.6\n",
      "3   1999     12                5.30                  7.05             2.7\n",
      "4   2000     12                6.40                  7.62             3.4\n",
      "5   2001     12                1.82                  7.08             1.6\n",
      "6   2002     12                1.24                  6.49             2.4\n",
      "7   2003     12                0.98                  5.66             1.9\n",
      "8   2004     12                2.16                  5.63             3.3\n",
      "9   2005     12                4.16                  5.23             3.4\n",
      "10  2006     12                5.24                  5.59             2.5\n",
      "11  2007     12                4.24                  5.56             4.1\n",
      "12  2008     12                0.16                  5.63             0.1\n",
      "13  2009     12                0.12                  5.31             2.7\n",
      "14  2010     12                0.18                  4.94             1.5\n",
      "15  2011     12                0.07                  4.64             3.0\n",
      "16  2012     12                0.16                  3.67             1.7\n",
      "17  2013     12                0.09                  4.23             1.5\n",
      "18  2014     12                0.12                  4.16             0.8\n",
      "19  2015     12                0.24                  3.89             0.7\n",
      "20  2016     12                0.54                  4.07             2.1\n",
      "21  2017     12                1.30                  3.47             2.1\n",
      "22  2018     12                2.27                  4.02             1.9\n"
     ]
    }
   ],
   "source": [
    "Bond_Market = {'Year': [1996,1997,1998,1999,2000,2001,2002,2003,2004,2005,2006,2007,2008,2009,2010,2011,2012,2013,2014,2015,2016,2017,2018],\n",
    "                'Month': [12, 12,12,12,12,12,12,12,12,12,12,12,12,12,12,12,12,12,12,12,12,12,12],\n",
    "                'Federal Funds Rate': [5.29,5.50,4.68,5.30,6.40,1.82,1.24,0.98,2.16,4.16,5.24,4.24,0.16,0.12,0.18,0.07,0.16,0.09,0.12,0.24,0.54,1.30,2.27],\n",
    "                'Corporate Bond Yield': [7.37,7.27,6.53,7.05,7.62,7.08,6.49,5.66,5.63,5.23,5.59,5.56,5.63,5.31,4.94,4.64,3.67,4.23,4.16,3.89,4.07,3.47,4.02],        \n",
    "                'Inflation Rate': [3.3,1.7,1.6,2.7,3.4,1.6,2.4,1.9,3.3,3.4,2.5,4.1,0.1,2.7,1.5,3.0,1.7,1.5,0.8,0.7,2.1,2.1,1.9]\n",
    "               }\n",
    "\n",
    "df = DataFrame(Bond_Market,columns=['Year','Month','Federal Funds Rate','Corporate Bond Yield','Inflation Rate']) \n",
    "\n",
    "print (df)"
   ]
  },
  {
   "cell_type": "markdown",
   "metadata": {},
   "source": [
    "Stock_Market = {'Year': [1996,1997,1998,1999,2000,2001,2002,2003,2004,2005,2006,2007,2008,2009,2010,2011,2012,2013,2014,2015,2016,2017,2018],\n",
    "                'Month': [12, 12,12,12,12,12,12,12,12,12,12,12,12,12,12,12,12,12,12,12,12,12,12],\n",
    "                'Federal Funds Rate': [5.29,5.50,4.68,5.30,6.40,1.82,1.24,0.98,2.16,4.16,5.24,4.24,0.16,0.12,0.18,0.07,0.16,0.09,0.12,0.24,0.54,1.30,2.27],\n",
    "                'Bond Yield': [7.37,7.27,6.53,7.05,7.62,7.08,6.49,5.66,5.63,5.23,5.59,5.56,5.63,5.31,4.94,4.64,3.67,4.23,4.16,3.89,4.07,3.47,4.02]        \n",
    "                }\n",
    "\n",
    "df = DataFrame(Stock_Market,columns=['Year','Month','Federal Funds Rate','Bond Yield']) \n",
    "\n",
    "print (df)"
   ]
  },
  {
   "cell_type": "markdown",
   "metadata": {},
   "source": [
    "## Check for Linearity"
   ]
  },
  {
   "cell_type": "code",
   "execution_count": 3,
   "metadata": {},
   "outputs": [
    {
     "data": {
      "image/png": "[encoded data removed]",
      "text/plain": [
       "<Figure size 432x288 with 1 Axes>"
      ]
     },
     "metadata": {},
     "output_type": "display_data"
    }
   ],
   "source": [
    "plt.scatter(df['Federal Funds Rate'], df['Corporate Bond Yield'], color='red')\n",
    "plt.title('Coporate Bond Yield Vs Federal Funds Rate', fontsize=14)\n",
    "plt.xlabel('Federal Funds Rate', fontsize=14)\n",
    "plt.ylabel('Bond Yields', fontsize=14)\n",
    "plt.grid(True)\n",
    "plt.show()"
   ]
  },
  {
   "cell_type": "code",
   "execution_count": 4,
   "metadata": {},
   "outputs": [
    {
     "data": {
      "image/png": "[encoded data removed]",
      "text/plain": [
       "<Figure size 432x288 with 1 Axes>"
      ]
     },
     "metadata": {},
     "output_type": "display_data"
    }
   ],
   "source": [
    "plt.scatter(df['Inflation Rate'], df['Corporate Bond Yield'], color='blue')\n",
    "plt.title('Corporate Bond Yield Vs Inflation Rate', fontsize=14)\n",
    "plt.xlabel('Inflation Rate', fontsize=14)\n",
    "plt.ylabel('Bond Yield', fontsize=14)\n",
    "plt.grid(True)\n",
    "plt.show()"
   ]
  },
  {
   "cell_type": "code",
   "execution_count": 5,
   "metadata": {},
   "outputs": [
    {
     "name": "stdout",
     "output_type": "stream",
     "text": [
      "Intercept: \n",
      " 4.662023580892216\n",
      "Coefficients: \n",
      " [-0.0955546   0.43362395]\n",
      "Predicted Bond Yield: \n",
      " [5.14082405] %\n",
      "                             OLS Regression Results                             \n",
      "================================================================================\n",
      "Dep. Variable:     Corporate Bond Yield   R-squared:                       0.512\n",
      "Model:                              OLS   Adj. R-squared:                  0.463\n",
      "Method:                   Least Squares   F-statistic:                     10.50\n",
      "Date:                  Mon, 04 Mar 2019   Prob (F-statistic):           0.000762\n",
      "Time:                          23:55:26   Log-Likelihood:                -29.821\n",
      "No. Observations:                    23   AIC:                             65.64\n",
      "Df Residuals:                        20   BIC:                             69.05\n",
      "Df Model:                             2                                         \n",
      "Covariance Type:              nonrobust                                         \n",
      "======================================================================================\n",
      "                         coef    std err          t      P>|t|      [0.025      0.975]\n",
      "--------------------------------------------------------------------------------------\n",
      "const                  4.6620      0.492      9.482      0.000       3.636       5.688\n",
      "Inflation Rate        -0.0956      0.244     -0.392      0.699      -0.604       0.413\n",
      "Federal Funds Rate     0.4336      0.107      4.068      0.001       0.211       0.656\n",
      "==============================================================================\n",
      "Omnibus:                        0.574   Durbin-Watson:                   0.547\n",
      "Prob(Omnibus):                  0.750   Jarque-Bera (JB):                0.615\n",
      "Skew:                           0.062   Prob(JB):                        0.735\n",
      "Kurtosis:                       2.209   Cond. No.                         10.4\n",
      "==============================================================================\n",
      "\n",
      "Warnings:\n",
      "[1] Standard Errors assume that the covariance matrix of the errors is correctly specified.\n"
     ]
    }
   ],
   "source": [
    "#two variables for the multiple regression\n",
    "X = df[['Inflation Rate','Federal Funds Rate']]\n",
    "Y = df['Corporate Bond Yield']\n",
    "#with sklearn\n",
    "regr = linear_model.LinearRegression()\n",
    "regr.fit(X, Y)\n",
    "print('Intercept: \\n', regr.intercept_)\n",
    "print('Coefficients: \\n', regr.coef_)\n",
    "\n",
    "# prediction with sklearn\n",
    "New_Federal_Funds_Rate = 2.25\n",
    "New_Inflation_Rate = 1.6\n",
    "print ('Predicted Bond Yield: \\n', regr.predict([[New_Federal_Funds_Rate ,New_Inflation_Rate]]), '%')\n",
    "\n",
    "# with statsmodels\n",
    "X = sm.add_constant(X) # adding a constant\n",
    " \n",
    "model = sm.OLS(Y, X).fit()\n",
    "predictions = model.predict(X) \n",
    " \n",
    "print_model = model.summary()\n",
    "print(print_model)"
   ]
  },
  {
   "cell_type": "code",
   "execution_count": 6,
   "metadata": {},
   "outputs": [
    {
     "ename": "NameError",
     "evalue": "name 'FigureCanvasTkAgg' is not defined",
     "output_type": "error",
     "traceback": [
      "\u001b[0;31m---------------------------------------------------------------------------\u001b[0m",
      "\u001b[0;31mNameError\u001b[0m                                 Traceback (most recent call last)",
      "\u001b[0;32m<ipython-input-6-53be22a14f1c>\u001b[0m in \u001b[0;36m<module>\u001b[0;34m()\u001b[0m\n\u001b[1;32m     56\u001b[0m \u001b[0max3\u001b[0m \u001b[0;34m=\u001b[0m \u001b[0mfigure3\u001b[0m\u001b[0;34m.\u001b[0m\u001b[0madd_subplot\u001b[0m\u001b[0;34m(\u001b[0m\u001b[0;36m111\u001b[0m\u001b[0;34m)\u001b[0m\u001b[0;34m\u001b[0m\u001b[0m\n\u001b[1;32m     57\u001b[0m \u001b[0max3\u001b[0m\u001b[0;34m.\u001b[0m\u001b[0mscatter\u001b[0m\u001b[0;34m(\u001b[0m\u001b[0mdf\u001b[0m\u001b[0;34m[\u001b[0m\u001b[0;34m'Federal Funds Rate'\u001b[0m\u001b[0;34m]\u001b[0m\u001b[0;34m.\u001b[0m\u001b[0mastype\u001b[0m\u001b[0;34m(\u001b[0m\u001b[0mfloat\u001b[0m\u001b[0;34m)\u001b[0m\u001b[0;34m,\u001b[0m\u001b[0mdf\u001b[0m\u001b[0;34m[\u001b[0m\u001b[0;34m'Corporate Bond Yield'\u001b[0m\u001b[0;34m]\u001b[0m\u001b[0;34m.\u001b[0m\u001b[0mastype\u001b[0m\u001b[0;34m(\u001b[0m\u001b[0mfloat\u001b[0m\u001b[0;34m)\u001b[0m\u001b[0;34m,\u001b[0m \u001b[0mcolor\u001b[0m \u001b[0;34m=\u001b[0m \u001b[0;34m'r'\u001b[0m\u001b[0;34m)\u001b[0m\u001b[0;34m\u001b[0m\u001b[0m\n\u001b[0;32m---> 58\u001b[0;31m \u001b[0mscatter3\u001b[0m \u001b[0;34m=\u001b[0m \u001b[0mFigureCanvasTkAgg\u001b[0m\u001b[0;34m(\u001b[0m\u001b[0mfigure3\u001b[0m\u001b[0;34m,\u001b[0m \u001b[0mroot\u001b[0m\u001b[0;34m)\u001b[0m\u001b[0;34m\u001b[0m\u001b[0m\n\u001b[0m\u001b[1;32m     59\u001b[0m \u001b[0mscatter3\u001b[0m\u001b[0;34m.\u001b[0m\u001b[0mget_tk_widget\u001b[0m\u001b[0;34m(\u001b[0m\u001b[0;34m)\u001b[0m\u001b[0;34m.\u001b[0m\u001b[0mpack\u001b[0m\u001b[0;34m(\u001b[0m\u001b[0mside\u001b[0m\u001b[0;34m=\u001b[0m\u001b[0mtk\u001b[0m\u001b[0;34m.\u001b[0m\u001b[0mRIGHT\u001b[0m\u001b[0;34m,\u001b[0m \u001b[0mfill\u001b[0m\u001b[0;34m=\u001b[0m\u001b[0mtk\u001b[0m\u001b[0;34m.\u001b[0m\u001b[0mBOTH\u001b[0m\u001b[0;34m)\u001b[0m\u001b[0;34m\u001b[0m\u001b[0m\n\u001b[1;32m     60\u001b[0m \u001b[0max3\u001b[0m\u001b[0;34m.\u001b[0m\u001b[0mlegend\u001b[0m\u001b[0;34m(\u001b[0m\u001b[0;34m)\u001b[0m\u001b[0;34m\u001b[0m\u001b[0m\n",
      "\u001b[0;31mNameError\u001b[0m: name 'FigureCanvasTkAgg' is not defined"
     ]
    }
   ],
   "source": [
    "# tkinter GUI\n",
    "root= tk.Tk() \n",
    " \n",
    "canvas1 = tk.Canvas(root, width = 1200, height = 450)\n",
    "canvas1.pack()\n",
    "\n",
    "# with sklearn\n",
    "Intercept_result = ('Intercept: ', regr.intercept_)\n",
    "label_Intercept = tk.Label(root, text=Intercept_result, justify = 'center')\n",
    "canvas1.create_window(260, 220, window=label_Intercept)\n",
    "\n",
    "# with sklearn\n",
    "Coefficients_result  = ('Coefficients: ', regr.coef_)\n",
    "label_Coefficients = tk.Label(root, text=Coefficients_result, justify = 'center')\n",
    "canvas1.create_window(260, 240, window=label_Coefficients)\n",
    "\n",
    "# with statsmodels\n",
    "print_model = model.summary()\n",
    "label_model = tk.Label(root, text=print_model, justify = 'center', relief = 'solid', bg='LightSkyBlue1')\n",
    "canvas1.create_window(800, 220, window=label_model)\n",
    "\n",
    "\n",
    "# New_Federal_Funds_Rate label and input box\n",
    "label1 = tk.Label(root, text='Type Federal Funds Rate: ')\n",
    "canvas1.create_window(100, 100, window=label1)\n",
    "\n",
    "entry1 = tk.Entry (root) # create 1st entry box\n",
    "canvas1.create_window(270, 100, window=entry1)\n",
    "\n",
    "# New_Inflation_Rate label and input box\n",
    "label2 = tk.Label(root, text=' Type Inflation Rate: ')\n",
    "canvas1.create_window(120, 120, window=label2)\n",
    "\n",
    "entry2 = tk.Entry (root) # create 2nd entry box\n",
    "canvas1.create_window(270, 120, window=entry2)\n",
    "\n",
    "\n",
    "def values(): \n",
    "    global New_Federal_Funds_Rate #our 1st input variable\n",
    "    New_Federal_Funds_Rate = float(entry1.get()) \n",
    "    \n",
    "    global New_Inflation_Rate #our 2nd input variable\n",
    "    New_Inflation_Rate = float(entry2.get()) \n",
    "    \n",
    "    Prediction_result  = ('Predicted Bond Yield: ', regr.predict([[New_Federal_Funds_Rate ,New_Inflation_Rate]]))\n",
    "    label_Prediction = tk.Label(root, text= Prediction_result, bg='orange')\n",
    "    canvas1.create_window(260, 280, window=label_Prediction)\n",
    "    \n",
    "button1 = tk.Button (root, text='Predict Bond Yield',command=values, bg='orange') # button to call the 'values' command above \n",
    "canvas1.create_window(270, 150, window=button1)\n",
    " \n",
    "root.mainloop()\n",
    "\n",
    "#plot 1st scatter \n",
    "figure3 = plt.Figure(figsize=(5,4), dpi=100)\n",
    "ax3 = figure3.add_subplot(111)\n",
    "ax3.scatter(df['Federal Funds Rate'].astype(float),df['Corporate Bond Yield'].astype(float), color = 'r')\n",
    "scatter3 = FigureCanvasTkAgg(figure3, root) \n",
    "scatter3.get_tk_widget().pack(side=tk.RIGHT, fill=tk.BOTH)\n",
    "ax3.legend() \n",
    "ax3.set_xlabel('Federal Funds Rate')\n",
    "ax3.set_title('Federal Funds Rate Vs. Corporate Bond Yield')\n",
    "\n",
    "#plot 2nd scatter \n",
    "figure4 = plt.Figure(figsize=(5,4), dpi=100)\n",
    "ax4 = figure4.add_subplot(111)\n",
    "ax4.scatter(df['Inflation Rate'].astype(float),df['Corporate Bond Yield'].astype(float), color = 'g')\n",
    "scatter4 = FigureCanvasTkAgg(figure4, root) \n",
    "scatter4.get_tk_widget().pack(side=tk.RIGHT, fill=tk.BOTH)\n",
    "ax4.legend() \n",
    "ax4.set_xlabel('Inflation Rate')\n",
    "ax4.set_title('Inflation Rate Vs. Corporate Bond Yield')\n",
    "\n",
    "root.mainloop()"
   ]
  },
  {
   "cell_type": "code",
   "execution_count": null,
   "metadata": {},
   "outputs": [],
   "source": []
  }
 ],
 "metadata": {
  "kernelspec": {
   "display_name": "Python 3",
   "language": "python",
   "name": "python3"
  },
  "language_info": {
   "codemirror_mode": {
    "name": "ipython",
    "version": 3
   },
   "file_extension": ".py",
   "mimetype": "text/x-python",
   "name": "python",
   "nbconvert_exporter": "python",
   "pygments_lexer": "ipython3",
   "version": "3.6.5"
  }
 },
 "nbformat": 4,
 "nbformat_minor": 2
}
